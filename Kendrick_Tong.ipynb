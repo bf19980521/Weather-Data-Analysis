{
  "nbformat": 4,
  "nbformat_minor": 0,
  "metadata": {
    "colab": {
      "provenance": []
    },
    "kernelspec": {
      "name": "python3",
      "display_name": "Python 3"
    },
    "language_info": {
      "name": "python"
    }
  },
  "cells": [
    {
      "cell_type": "code",
      "execution_count": null,
      "metadata": {
        "colab": {
          "base_uri": "https://localhost:8080/",
          "height": 36
        },
        "id": "ESL5NV6Y8Mwg",
        "outputId": "2fe33fb3-5050-4cb7-a026-541cab0494ff"
      },
      "outputs": [
        {
          "output_type": "execute_result",
          "data": {
            "text/plain": [
              "'Success'"
            ],
            "application/vnd.google.colaboratory.intrinsic+json": {
              "type": "string"
            }
          },
          "metadata": {},
          "execution_count": 91
        }
      ],
      "source": [
        "import requests\n",
        "\n",
        "API_URL = 'https://script.google.com/macros/s/AKfycbwp3yNTGX72Jf75mwbsJrMBWW9Z3t7Nnl8adC3URPhtgBsZpWLmP0t-WsHIiUKfMoTYCA/exec'\n",
        "\n",
        "name = 'John'\n",
        "email = 'john@john.com'\n",
        "\n",
        "response = requests.post(API_URL, json={\"name\" : name, \"email\" : email})\n",
        "\n",
        "response.text"
      ]
    },
    {
      "cell_type": "code",
      "source": [
        "response = requests.get(API_URL)\n",
        "response.json()"
      ],
      "metadata": {
        "colab": {
          "base_uri": "https://localhost:8080/"
        },
        "id": "ZRCVu8zi_G4n",
        "outputId": "d0146081-3b10-4f0b-96f8-7bd8333088f8"
      },
      "execution_count": null,
      "outputs": [
        {
          "output_type": "execute_result",
          "data": {
            "text/plain": [
              "[{'Timestamp': '2025-08-25T06:48:02.000Z',\n",
              "  'Name': 'John',\n",
              "  'Email': 'john@john.com'}]"
            ]
          },
          "metadata": {},
          "execution_count": 80
        }
      ]
    },
    {
      "cell_type": "code",
      "source": [
        "def insert_row(name, email):\n",
        "    response = requests.post(API_URL, json={'name' : name,\"email\" : email})"
      ],
      "metadata": {
        "id": "C-9ms2oK_fBR"
      },
      "execution_count": null,
      "outputs": []
    },
    {
      "cell_type": "code",
      "source": [
        "def insert_rows(rows):\n",
        "    for i in rows:\n",
        "        response = requests.post(API_URL, json = {'name' : name, \"email\" : email})\n"
      ],
      "metadata": {
        "id": "IRD1wojW_4_l"
      },
      "execution_count": null,
      "outputs": []
    },
    {
      "cell_type": "code",
      "source": [
        "def get_all_rows():\n",
        "    response = requests.get(API_URL)\n",
        "    print(response.json())"
      ],
      "metadata": {
        "id": "3dQE0TpO_fNQ"
      },
      "execution_count": null,
      "outputs": []
    },
    {
      "cell_type": "code",
      "source": [
        "def get_last_row():\n",
        "    response = requests.get(API_URL)\n",
        "    print(response.json())"
      ],
      "metadata": {
        "id": "fAUVt3Bb_oCp"
      },
      "execution_count": null,
      "outputs": []
    },
    {
      "cell_type": "code",
      "source": [
        "name = 'Kendrick'\n",
        "email = 'po@n.com'\n",
        "\n",
        "insert_row(name, email)"
      ],
      "metadata": {
        "id": "6A9O46yKKpx7"
      },
      "execution_count": null,
      "outputs": []
    }
  ]
}